{
 "cells": [
  {
   "cell_type": "markdown",
   "execution_count": 0,
   "metadata": {},
   "outputs": [],
   "source": [
    "<h1 style=\"text-align: center\">\n",
    "<div style=\"color: #DD3403; font-size: 60%\">Data Science DISCOVERY MicroProject</div>\n",
    "<span style=\"\">MicroProject: NCAA March Madness</span>\n",
    "<div style=\"font-size: 60%;\"><a href=\"https://discovery.cs.illinois.edu/microproject/ncaa-march-madness/\">https://discovery.cs.illinois.edu/microproject/ncaa-march-madness/</a></div>\n",
    "</h1>\n",
    "\n",
    "<hr style=\"color: #DD3403;\">"
   ]
  },
  {
   "cell_type": "markdown",
   "execution_count": 0,
   "metadata": {},
   "outputs": [],
   "source": [
    "## Data Source: March Madness\n",
    "\n",
    "The NCAA March Madness tournament is an annual college basketball event in the United States that determines the national champion among Division I men's and women's teams. It is a single-elimination tournament with 64 teams.  In 2024, UIUC is a 3 seed, ranked 13 overall out of the 64 teams!\n",
    "\n",
    "A bracket in the March Madness tournament visually represents the matchups between teams in each round of the single-elimination competition. Fans can fill out their own brackets with predictions before the tournament starts, attempting to forecast the outcomes of all games, including which team will ultimately win the championship.\n",
    "\n",
    "The datasets we will be using in this MicroProject were compiled on Kaggle and can be found [here](https://www.kaggle.com/datasets/nishaanamin/march-madness-data). This data was pulled from multiple sources including ABC news and ESPN."
   ]
  },
  {
   "cell_type": "markdown",
   "execution_count": 0,
   "metadata": {},
   "outputs": [],
   "source": [
    "# Part 1: Analyzing Illinois Performance in Tournament History"
   ]
  },
  {
   "cell_type": "markdown",
   "execution_count": 0,
   "metadata": {},
   "outputs": [],
   "source": [
    "## Puzzle 1.1: Importing the Data\n",
    "\n",
    "The `\"TournamentHistory.csv\"` file contains data for NCAA March Madness teams, including the year, team name, their tournament seed, the furthest round they reached, and various other metrics from 2008-2024. Import the dataset using pandas and save it to a variable called `df_history`."
   ]
  },
  {
   "cell_type": "code",
   "execution_count": 0,
   "metadata": {},
   "outputs": [],
   "source": [
    "df_history = ...\n",
    "df_history"
   ]
  },
  {
   "cell_type": "code",
   "execution_count": 0,
   "metadata": {},
   "outputs": [],
   "source": [
    "### TEST CASE for Puzzle 1.1\n",
    "# - This read-only cell contains a \"checkpoint\" for this section of the MicroProejct and verifies you are on the right track.\n",
    "# - If this cell results in a celebration message, you PASSED all test cases!\n",
    "# - If this cell results in any errors, check you previous cells, make changes, and RE-RUN your code and then this cell.\n",
    "tada = \"\\N{PARTY POPPER}\"\n",
    "\n",
    "assert(\"df_history\" in vars())\n",
    "assert(len(df_history) == 704)\n",
    "assert(\"Western Kentucky\" in df_history[\"TEAM\"].values)\n",
    "assert(\"VCU\" in df_history[\"TEAM\"].values)\n",
    "assert(df_history[\"POWER\"].mean() == 67.99730113636363)\n",
    "print(f\"{tada} All Tests Passed! {tada}\")"
   ]
  },
  {
   "cell_type": "markdown",
   "execution_count": 0,
   "metadata": {},
   "outputs": [],
   "source": [
    "## Puzzle 1.2: Filtering the Dataset \n",
    "\n",
    "The data for 2024 is incomplete for now, so we will ignore these rows and look at Illinois' past performance. To start off, make a new dataframe called `df_illinois` that only includes rows where the `TEAM` column equals \"Illinois\" and `YEAR` is less than 2024."
   ]
  },
  {
   "cell_type": "code",
   "execution_count": 0,
   "metadata": {},
   "outputs": [],
   "source": [
    "df_illinois = ...\n",
    "df_illinois"
   ]
  },
  {
   "cell_type": "code",
   "execution_count": 0,
   "metadata": {},
   "outputs": [],
   "source": [
    "### TEST CASE for Puzzle 1.2\n",
    "# - This read-only cell contains a \"checkpoint\" for this section of the MicroProejct and verifies you are on the right track.\n",
    "# - If this cell results in a celebration message, you PASSED all test cases!\n",
    "# - If this cell results in any errors, check you previous cells, make changes, and RE-RUN your code and then this cell.\n",
    "tada = \"\\N{PARTY POPPER}\"\n",
    "\n",
    "assert(\"df_illinois\" in vars())\n",
    "assert(len(df_illinois) == 4)\n",
    "assert(df_illinois[\"POWER\"].mean() == 75.7)\n",
    "assert(df_illinois[\"POOL VALUE\"].mean() == 28.775)\n",
    "print(f\"{tada} All Tests Passed! {tada}\")"
   ]
  },
  {
   "cell_type": "markdown",
   "execution_count": 0,
   "metadata": {},
   "outputs": [],
   "source": [
    "## Puzzle 1.3: Identifying Illinois Performance Peaks\n",
    "\n",
    "Now we are going to analyze the dataset to find the years Illinois had its highest seed and the years it reached the furthest rounds in the tournament. Compare these findings to see if higher seeds always correlate with deeper tournament runs for Illinois.\n",
    "\n",
    "Make two DataFrames named `highest_seeds` and `deepest_runs` that sort the rows in the DataFrame by seed in ascending order and round in ascending order.\n",
    "\n",
    "**HINT**: Use the `sort_values` function on the dataframe and make the `by` parameter the column name you want to sort by."
   ]
  },
  {
   "cell_type": "code",
   "execution_count": 0,
   "metadata": {},
   "outputs": [],
   "source": [
    "highest_seeds = ...\n",
    "highest_seeds"
   ]
  },
  {
   "cell_type": "code",
   "execution_count": 0,
   "metadata": {},
   "outputs": [],
   "source": [
    "deepest_runs = ...\n",
    "deepest_runs"
   ]
  },
  {
   "cell_type": "markdown",
   "execution_count": 0,
   "metadata": {},
   "outputs": [],
   "source": [
    "In the data, the \"deepest run\" Illinois has had is to the \"round-of-32\" or the second round.  Illinois hasn't made it past the the second round even once in the last 15 years, despite being ranked in the top half almost all 4 tournaments.  Hopefully, we can turn that around this year `#ILL-INI`!"
   ]
  },
  {
   "cell_type": "code",
   "execution_count": 0,
   "metadata": {},
   "outputs": [],
   "source": [
    "### TEST CASE for Puzzle 1.3\n",
    "# - This read-only cell contains a \"checkpoint\" for this section of the MicroProejct and verifies you are on the right track.\n",
    "# - If this cell results in a celebration message, you PASSED all test cases!\n",
    "# - If this cell results in any errors, check you previous cells, make changes, and RE-RUN your code and then this cell.\n",
    "tada = \"\\N{PARTY POPPER}\"\n",
    "\n",
    "assert(\"highest_seeds\" in vars())\n",
    "assert(\"deepest_runs\" in vars())\n",
    "assert(highest_seeds.iloc[0][\"YEAR\"] == 2021)\n",
    "assert(deepest_runs.iloc[0][\"YEAR\"] == 2022 or deepest_runs.iloc[0][\"YEAR\"] == 2021 or deepest_runs.iloc[0][\"YEAR\"] == 2013)\n",
    "print(f\"{tada} All Tests Passed! {tada}\")"
   ]
  },
  {
   "cell_type": "markdown",
   "execution_count": 0,
   "metadata": {},
   "outputs": [],
   "source": [
    "<hr style=\"color: #DD3403;\">"
   ]
  },
  {
   "cell_type": "markdown",
   "execution_count": 0,
   "metadata": {},
   "outputs": [],
   "source": [
    "# Part 2: Analyzing Upset Trends by Round"
   ]
  },
  {
   "cell_type": "markdown",
   "execution_count": 0,
   "metadata": {},
   "outputs": [],
   "source": [
    "## Puzzle 2.1: Importing the Data\n",
    "\n",
    "The `\"UpsetCount.csv\"` file contains historical data on the number of upsets in each round of the NCAA March Madness tournaments from 2008 to 2023. Import the dataset and save it to a variable called `df_upset`.\n"
   ]
  },
  {
   "cell_type": "code",
   "execution_count": 0,
   "metadata": {},
   "outputs": [],
   "source": [
    "# Import \"UpsetCount.csv\":\n",
    "df_upset = ...\n",
    "df_upset"
   ]
  },
  {
   "cell_type": "code",
   "execution_count": 0,
   "metadata": {},
   "outputs": [],
   "source": [
    "### TEST CASE for Puzzle 2.1\n",
    "# - This read-only cell contains a \"checkpoint\" for this section of the MicroProejct and verifies you are on the right track.\n",
    "# - If this cell results in a celebration message, you PASSED all test cases!\n",
    "# - If this cell results in any errors, check you previous cells, make changes, and RE-RUN your code and then this cell.\n",
    "tada = \"\\N{PARTY POPPER}\"\n",
    "\n",
    "assert(\"df_upset\" in vars())\n",
    "assert(len(df_upset) == 15)\n",
    "assert(df_upset[\"FIRST ROUND\"].mean() == 7.133333333333334)\n",
    "assert(df_upset[\"TOTAL\"].mean() == 13.8)\n",
    "print(f\"{tada} All Tests Passed! {tada}\")"
   ]
  },
  {
   "cell_type": "markdown",
   "execution_count": 0,
   "metadata": {},
   "outputs": [],
   "source": [
    "## Puzzle 2.2: Converting column values\n",
    "\n",
    "Each number in the `FIRST ROUND`, `SECOND ROUND`, `SWEET 16`, `ELITE 8` and `FINAL 4` columns contains a count of how many games resulted in an upset for the given year. Because each round has a different number of games we can't compare these numbers directly, but will convert them to percentages we can compare.\n",
    "\n",
    "Transform each upset count into a percentage of upsets based on the number of games played in each round.  Here's a breakdown of how many games are played in each of the five rounds:\n",
    "\n",
    "- First Round: 32 games played\n",
    "- Second Round: 16 games\n",
    "- Sweet 16: 8 games\n",
    "- Elite 8: 4 games\n",
    "- Final 4: 2 games"
   ]
  },
  {
   "cell_type": "code",
   "execution_count": 0,
   "metadata": {},
   "outputs": [],
   "source": []
  },
  {
   "cell_type": "code",
   "execution_count": 0,
   "metadata": {},
   "outputs": [],
   "source": [
    "### TEST CASE for Puzzle 2.2\n",
    "# - This read-only cell contains a \"checkpoint\" for this section of the MicroProejct and verifies you are on the right track.\n",
    "# - If this cell results in a celebration message, you PASSED all test cases!\n",
    "# - If this cell results in any errors, check you previous cells, make changes, and RE-RUN your code and then this cell.\n",
    "tada = \"\\N{PARTY POPPER}\"\n",
    "\n",
    "import math;\n",
    "df_excluded = df_upset.drop(columns=[\"TOTAL\",\"YEAR\"])\n",
    "assert((df_excluded <= 1).all().all())\n",
    "assert( math.isclose(df_upset[\"FIRST ROUND\"].mean(), 0.22291666666666668) )\n",
    "assert( math.isclose(df_upset[\"SWEET 16\"].median(), 0.25) )\n",
    "print(f\"{tada} All Tests Passed! {tada}\")"
   ]
  },
  {
   "cell_type": "markdown",
   "execution_count": 0,
   "metadata": {},
   "outputs": [],
   "source": [
    "## Puzzle 2.3: Finding average ratio of upsets\n",
    "\n",
    "Now, let's get the average of each round and compare these ratio values.\n",
    "\n",
    "First, create a new DataFrame `averages` that contains the same data from `df_upset` but without the `YEAR` or `TOTAL` columns that we no longer need.\n",
    "\n",
    "> Not sure how to remove a column?  Check out our [DISCOVERY guide \"Removing Columns in a DataFrame\"](https://discovery.cs.illinois.edu/guides/Modifying-DataFrames/removing-columns-from-dataframes/).\n",
    "\n",
    "Finally, find the `mean` of all remaining columns in the `averages` DataFrame and store that result back into `averages`."
   ]
  },
  {
   "cell_type": "code",
   "execution_count": 0,
   "metadata": {},
   "outputs": [],
   "source": [
    "# Remove the columns \"YEAR\" and \"TOTAL\" from df_upset\n",
    "averages = ...\n",
    "\n",
    "# Then, find the mean:\n",
    "averages = ...\n",
    "averages"
   ]
  },
  {
   "cell_type": "markdown",
   "execution_count": 0,
   "metadata": {},
   "outputs": [],
   "source": [
    "Based on these values, is there a round that seems more likely for upset rounds? Are you surprised by this finding?"
   ]
  },
  {
   "cell_type": "code",
   "execution_count": 0,
   "metadata": {},
   "outputs": [],
   "source": [
    "### TEST CASE for Puzzle 2.3\n",
    "# - This read-only cell contains a \"checkpoint\" for this section of the MicroProejct and verifies you are on the right track.\n",
    "# - If this cell results in a celebration message, you PASSED all test cases!\n",
    "# - If this cell results in any errors, check you previous cells, make changes, and RE-RUN your code and then this cell.\n",
    "tada = \"\\N{PARTY POPPER}\"\n",
    "\n",
    "assert(\"averages\" in vars())\n",
    "assert(len(averages) == 5)\n",
    "assert(averages[\"FINAL 4\"] == 0.1)\n",
    "\n",
    "print(f\"{tada} All Tests Passed! {tada}\")"
   ]
  },
  {
   "cell_type": "markdown",
   "execution_count": 0,
   "metadata": {},
   "outputs": [],
   "source": [
    "<hr style=\"color: #DD3403;\">"
   ]
  },
  {
   "cell_type": "markdown",
   "execution_count": 0,
   "metadata": {},
   "outputs": [],
   "source": [
    "# Part 3: Analyzing Public Picks"
   ]
  },
  {
   "cell_type": "markdown",
   "execution_count": 0,
   "metadata": {},
   "outputs": [],
   "source": [
    "## Puzzle 3.1: Importing the Data\n",
    "\n",
    "The `\"PublicPicks.csv\"` file contains data for NCAA March Madness teams, showing the percentage of bracket participants who predicted each team's victory in each round, from the Round of 64 to the Finals. Import the dataset and save it to a variable called `df_public`."
   ]
  },
  {
   "cell_type": "code",
   "execution_count": 0,
   "metadata": {},
   "outputs": [],
   "source": [
    "df_public = ...\n",
    "df_public"
   ]
  },
  {
   "cell_type": "code",
   "execution_count": 0,
   "metadata": {},
   "outputs": [],
   "source": [
    "### TEST CASE for Puzzle 3.1\n",
    "# - This read-only cell contains a \"checkpoint\" for this section of the MicroProejct and verifies you are on the right track.\n",
    "# - If this cell results in a celebration message, you PASSED all test cases!\n",
    "# - If this cell results in any errors, check you previous cells, make changes, and RE-RUN your code and then this cell.\n",
    "tada = \"\\N{PARTY POPPER}\"\n",
    "\n",
    "assert(\"df_public\" in vars())\n",
    "assert(len(df_public) == 68)\n",
    "assert(\"Akron\" in df_public[\"TEAM\"].values)\n",
    "print(f\"{tada} All Tests Passed! {tada}\")"
   ]
  },
  {
   "cell_type": "markdown",
   "execution_count": 0,
   "metadata": {},
   "outputs": [],
   "source": [
    "## Puzzle 3.2: Convert Percentage Strings into Numbers\n",
    "\n",
    "In this dataset, the values for `R64`, `R32`, `S16`, `E8`, `F4` and `FINALS` look like numbers -- but they're actually objects (specifically, strings)! :(\n",
    "\n",
    "We can verify this with the `df.dtypes` command to find the datatypes of each column:"
   ]
  },
  {
   "cell_type": "code",
   "execution_count": 0,
   "metadata": {},
   "outputs": [],
   "source": [
    "df_public.dtypes"
   ]
  },
  {
   "cell_type": "markdown",
   "execution_count": 0,
   "metadata": {},
   "outputs": [],
   "source": [
    "Through observation of the dataset, we can find that all strings are formatted in the same way as a `<number>` followed by a `%`.  Using df_public[\"R64\"] as an example, we can remove all the `%` from all the data with the string `strip` command.  This is done by accessing the column (`df_public[\"R64\"]`), accessing the string functions (`.str`), using the strip function to remove the `%` sign (`.strip(\"%\")`), and finally converting the data to a decimal number (`.astype(float)`).\n",
    "\n",
    "Finally, to keep the units accurate, we need to divide by `100` since `14.62%` is `0.1462`.  This has bene done for you for the Round of 64:"
   ]
  },
  {
   "cell_type": "code",
   "execution_count": 0,
   "metadata": {},
   "outputs": [],
   "source": [
    "# Convert a string percentage (ex: \"14.62%\") into a numeric value (ex: 0.1462):\n",
    "df_public[\"R64\"] = df_public[\"R64\"].str.strip(\"%\").astype(float) / 100\n",
    "df_public[\"R64\"]"
   ]
  },
  {
   "cell_type": "markdown",
   "execution_count": 0,
   "metadata": {},
   "outputs": [],
   "source": [
    "Repeat this process for `R32`, `S16`, `E8`, `F4` and `FINALS`:"
   ]
  },
  {
   "cell_type": "code",
   "execution_count": 0,
   "metadata": {},
   "outputs": [],
   "source": [
    "# Convert a string percentage (ex: \"14.62%\") into a numeric value (ex: 0.1462)\n",
    "# ...for the column `R32`:\n",
    "..."
   ]
  },
  {
   "cell_type": "code",
   "execution_count": 0,
   "metadata": {},
   "outputs": [],
   "source": [
    "# ...for the column `S16`:\n",
    "..."
   ]
  },
  {
   "cell_type": "code",
   "execution_count": 0,
   "metadata": {},
   "outputs": [],
   "source": [
    "# ...for the column `E8`:\n",
    "..."
   ]
  },
  {
   "cell_type": "code",
   "execution_count": 0,
   "metadata": {},
   "outputs": [],
   "source": [
    "# ...for the column `F4`:\n",
    "..."
   ]
  },
  {
   "cell_type": "code",
   "execution_count": 0,
   "metadata": {},
   "outputs": [],
   "source": [
    "# ...and for the column `FINALS`:\n",
    "..."
   ]
  },
  {
   "cell_type": "markdown",
   "execution_count": 0,
   "metadata": {},
   "outputs": [],
   "source": [
    "Finally, lets verify the data types are now numeric (`float64`) using the same `df_public.dtypes` command again:"
   ]
  },
  {
   "cell_type": "code",
   "execution_count": 0,
   "metadata": {},
   "outputs": [],
   "source": [
    "df_public.dtypes"
   ]
  },
  {
   "cell_type": "markdown",
   "execution_count": 0,
   "metadata": {},
   "outputs": [],
   "source": [
    "## Puzzle 3.3: Finding The Top Picks for Each Round\n",
    "\n",
    "Using the public picks, we're going to find what the top picks for each round would be. The first round has been done for you, just run this cell. Use these steps for each round changing the `by` parameter in the `sort_values` method and the number in the `head` method each time. Save the values in the variable names provided."
   ]
  },
  {
   "cell_type": "code",
   "execution_count": 0,
   "metadata": {},
   "outputs": [],
   "source": [
    "# Find the 32 teams that are included in the most public brackets for the \"Round of 64\":\n",
    "df_64_sorted = df_public.sort_values(by='R64', ascending=False)\n",
    "top_32_teams = df_64_sorted.head(32)\n",
    "top_32_teams"
   ]
  },
  {
   "cell_type": "code",
   "execution_count": 0,
   "metadata": {},
   "outputs": [],
   "source": [
    "# Find the 16 teams that are included in the most public brackets for the \"Round of 32\":\n",
    "df_32_sorted = ...\n",
    "top_16_teams = ...\n",
    "top_16_teams"
   ]
  },
  {
   "cell_type": "code",
   "execution_count": 0,
   "metadata": {},
   "outputs": [],
   "source": [
    "# Find the 8 teams that are included in the most public brackets for the \"Sweet 16\":\n",
    "df_16_sorted = ...\n",
    "top_8_teams = ...\n",
    "top_8_teams"
   ]
  },
  {
   "cell_type": "code",
   "execution_count": 0,
   "metadata": {},
   "outputs": [],
   "source": [
    "# Find the 4 teams that are included in the most public brackets for the \"Elite 8\":\n",
    "df_8_sorted = ...\n",
    "top_4_teams = ...\n",
    "top_4_teams"
   ]
  },
  {
   "cell_type": "code",
   "execution_count": 0,
   "metadata": {},
   "outputs": [],
   "source": [
    "# Find the 2 teams that are included in the most public brackets for the \"Final 4\":\n",
    "df_4_sorted = ...\n",
    "top_2_teams = ...\n",
    "top_2_teams"
   ]
  },
  {
   "cell_type": "code",
   "execution_count": 0,
   "metadata": {},
   "outputs": [],
   "source": [
    "# Find the2single teams that is included in the most public brackets for the \"Finals\":\n",
    "df_1_sorted = ...\n",
    "top_team = ...\n",
    "top_team"
   ]
  },
  {
   "cell_type": "markdown",
   "execution_count": 0,
   "metadata": {},
   "outputs": [],
   "source": [
    "Does it seem like most people are using seed assignment to make their brackets? How does this compare to our knowledge of how many upsets occur each round?"
   ]
  },
  {
   "cell_type": "code",
   "execution_count": 0,
   "metadata": {},
   "outputs": [],
   "source": [
    "### TEST CASE for Puzzle 3.2\n",
    "# - This read-only cell contains a \"checkpoint\" for this section of the MicroProejct and verifies you are on the right track.\n",
    "# - If this cell results in a celebration message, you PASSED all test cases!\n",
    "# - If this cell results in any errors, check you previous cells, make changes, and RE-RUN your code and then this cell.\n",
    "tada = \"\\N{PARTY POPPER}\"\n",
    "\n",
    "assert(len(top_32_teams) == 32)\n",
    "assert(len(top_16_teams) == 16)\n",
    "assert(len(top_8_teams) == 8)\n",
    "assert(len(top_4_teams) == 4)\n",
    "assert(len(top_2_teams) == 2)\n",
    "assert(len(top_team) == 1)\n",
    "\n",
    "assert(top_32_teams[\"RANK\"].mean() == 17.4375)\n",
    "assert(top_16_teams[\"RANK\"].mean() == 8.5)\n",
    "assert(top_8_teams[\"RANK\"].mean() == 5)\n",
    "assert(top_4_teams[\"RANK\"].mean() == 2.5)\n",
    "assert(top_2_teams[\"RANK\"].mean() == 1.5)\n",
    "assert(top_team[\"RANK\"].mean() == 1)\n",
    "print(f\"{tada} All Tests Passed! {tada}\")"
   ]
  },
  {
   "cell_type": "markdown",
   "execution_count": 0,
   "metadata": {},
   "outputs": [],
   "source": [
    "<hr style=\"color: #DD3403;\">"
   ]
  },
  {
   "cell_type": "markdown",
   "execution_count": 0,
   "metadata": {},
   "outputs": [],
   "source": [
    "## Submission\n",
    "\n",
    "You're almost done!  All you need to do is to commit your lab to GitHub and run the GitHub Actions Grader:\n",
    "\n",
    "1.  ⚠️ **Make certain to save your work.** ⚠️ To do this, go to **File => Save All**\n",
    "\n",
    "2.  After you have saved, exit this notebook and return to https://discovery.cs.illinois.edu/microproject/ncaa-march-madness/ and complete the section **\"Commit and Grade Your Notebook\"**.\n",
    "\n",
    "3. If you see a 100% grade result on your GitHub Action, you've completed this MicroProject! 🎉"
   ]
  }
 ],
 "metadata": {
  "kernelspec": {
   "display_name": "Python 3",
   "language": "python",
   "name": "python3"
  },
  "language_info": {
   "codemirror_mode": {
    "name": "ipython",
    "version": 3
   },
   "file_extension": ".py",
   "mimetype": "text/x-python",
   "name": "python",
   "nbconvert_exporter": "python",
   "pygments_lexer": "ipython3",
   "version": "3.10.5"
  }
 },
 "nbformat": 4,
 "nbformat_minor": 2
}
